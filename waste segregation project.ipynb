{
  "cells": [
    {
      "cell_type": "code",
      "execution_count": null,
      "metadata": {
        "colab": {
          "base_uri": "https://localhost:8080/"
        },
        "id": "FFVvfpVSDHXp",
        "outputId": "18d0e60d-1799-456c-baf2-899e786093a8"
      },
      "outputs": [
        {
          "output_type": "stream",
          "name": "stdout",
          "text": [
            "Mounted at /content/drive\n"
          ]
        }
      ],
      "source": [
        "from google.colab import drive\n",
        "drive.mount('/content/drive')"
      ]
    },
    {
      "cell_type": "markdown",
      "source": [
        "importing necessary libraries"
      ],
      "metadata": {
        "id": "_Lar2dASnDcd"
      }
    },
    {
      "cell_type": "code",
      "execution_count": null,
      "metadata": {
        "id": "kjCT-0mEDK5p"
      },
      "outputs": [],
      "source": [
        "import numpy as np\n",
        "import tensorflow as tf\n",
        "from tensorflow import keras\n",
        "from tensorflow.keras import layers,models\n",
        "from tensorflow.keras.models import Sequential ,Model\n",
        "import pathlib\n",
        "from sklearn.model_selection import train_test_split\n",
        "import matplotlib.pyplot as plt\n",
        "import matplotlib.patches as patches\n",
        "import PIL\n",
        "import pathlib\n",
        "import numpy as np\n",
        "from tensorflow.keras.preprocessing.image import ImageDataGenerator\n",
        "from sklearn.metrics import confusion_matrix,classification_report\n",
        "import seaborn as sns\n",
        "from sklearn.metrics import accuracy_score"
      ]
    },
    {
      "cell_type": "code",
      "execution_count": null,
      "metadata": {
        "colab": {
          "base_uri": "https://localhost:8080/"
        },
        "id": "U0eqEavADMYT",
        "outputId": "ee2a19a7-6102-4460-d8c5-8ec3f25f6551"
      },
      "outputs": [
        {
          "name": "stdout",
          "output_type": "stream",
          "text": [
            "Requirement already satisfied: tensorflow in /usr/local/lib/python3.10/dist-packages (2.15.0.post1)\n",
            "Requirement already satisfied: absl-py>=1.0.0 in /usr/local/lib/python3.10/dist-packages (from tensorflow) (1.4.0)\n",
            "Requirement already satisfied: astunparse>=1.6.0 in /usr/local/lib/python3.10/dist-packages (from tensorflow) (1.6.3)\n",
            "Requirement already satisfied: flatbuffers>=23.5.26 in /usr/local/lib/python3.10/dist-packages (from tensorflow) (23.5.26)\n",
            "Requirement already satisfied: gast!=0.5.0,!=0.5.1,!=0.5.2,>=0.2.1 in /usr/local/lib/python3.10/dist-packages (from tensorflow) (0.5.4)\n",
            "Requirement already satisfied: google-pasta>=0.1.1 in /usr/local/lib/python3.10/dist-packages (from tensorflow) (0.2.0)\n",
            "Requirement already satisfied: h5py>=2.9.0 in /usr/local/lib/python3.10/dist-packages (from tensorflow) (3.9.0)\n",
            "Requirement already satisfied: libclang>=13.0.0 in /usr/local/lib/python3.10/dist-packages (from tensorflow) (16.0.6)\n",
            "Requirement already satisfied: ml-dtypes~=0.2.0 in /usr/local/lib/python3.10/dist-packages (from tensorflow) (0.2.0)\n",
            "Requirement already satisfied: numpy<2.0.0,>=1.23.5 in /usr/local/lib/python3.10/dist-packages (from tensorflow) (1.25.2)\n",
            "Requirement already satisfied: opt-einsum>=2.3.2 in /usr/local/lib/python3.10/dist-packages (from tensorflow) (3.3.0)\n",
            "Requirement already satisfied: packaging in /usr/local/lib/python3.10/dist-packages (from tensorflow) (23.2)\n",
            "Requirement already satisfied: protobuf!=4.21.0,!=4.21.1,!=4.21.2,!=4.21.3,!=4.21.4,!=4.21.5,<5.0.0dev,>=3.20.3 in /usr/local/lib/python3.10/dist-packages (from tensorflow) (3.20.3)\n",
            "Requirement already satisfied: setuptools in /usr/local/lib/python3.10/dist-packages (from tensorflow) (67.7.2)\n",
            "Requirement already satisfied: six>=1.12.0 in /usr/local/lib/python3.10/dist-packages (from tensorflow) (1.16.0)\n",
            "Requirement already satisfied: termcolor>=1.1.0 in /usr/local/lib/python3.10/dist-packages (from tensorflow) (2.4.0)\n",
            "Requirement already satisfied: typing-extensions>=3.6.6 in /usr/local/lib/python3.10/dist-packages (from tensorflow) (4.10.0)\n",
            "Requirement already satisfied: wrapt<1.15,>=1.11.0 in /usr/local/lib/python3.10/dist-packages (from tensorflow) (1.14.1)\n",
            "Requirement already satisfied: tensorflow-io-gcs-filesystem>=0.23.1 in /usr/local/lib/python3.10/dist-packages (from tensorflow) (0.36.0)\n",
            "Requirement already satisfied: grpcio<2.0,>=1.24.3 in /usr/local/lib/python3.10/dist-packages (from tensorflow) (1.62.0)\n",
            "Requirement already satisfied: tensorboard<2.16,>=2.15 in /usr/local/lib/python3.10/dist-packages (from tensorflow) (2.15.2)\n",
            "Requirement already satisfied: tensorflow-estimator<2.16,>=2.15.0 in /usr/local/lib/python3.10/dist-packages (from tensorflow) (2.15.0)\n",
            "Requirement already satisfied: keras<2.16,>=2.15.0 in /usr/local/lib/python3.10/dist-packages (from tensorflow) (2.15.0)\n",
            "Requirement already satisfied: wheel<1.0,>=0.23.0 in /usr/local/lib/python3.10/dist-packages (from astunparse>=1.6.0->tensorflow) (0.42.0)\n",
            "Requirement already satisfied: google-auth<3,>=1.6.3 in /usr/local/lib/python3.10/dist-packages (from tensorboard<2.16,>=2.15->tensorflow) (2.27.0)\n",
            "Requirement already satisfied: google-auth-oauthlib<2,>=0.5 in /usr/local/lib/python3.10/dist-packages (from tensorboard<2.16,>=2.15->tensorflow) (1.2.0)\n",
            "Requirement already satisfied: markdown>=2.6.8 in /usr/local/lib/python3.10/dist-packages (from tensorboard<2.16,>=2.15->tensorflow) (3.5.2)\n",
            "Requirement already satisfied: requests<3,>=2.21.0 in /usr/local/lib/python3.10/dist-packages (from tensorboard<2.16,>=2.15->tensorflow) (2.31.0)\n",
            "Requirement already satisfied: tensorboard-data-server<0.8.0,>=0.7.0 in /usr/local/lib/python3.10/dist-packages (from tensorboard<2.16,>=2.15->tensorflow) (0.7.2)\n",
            "Requirement already satisfied: werkzeug>=1.0.1 in /usr/local/lib/python3.10/dist-packages (from tensorboard<2.16,>=2.15->tensorflow) (3.0.1)\n",
            "Requirement already satisfied: cachetools<6.0,>=2.0.0 in /usr/local/lib/python3.10/dist-packages (from google-auth<3,>=1.6.3->tensorboard<2.16,>=2.15->tensorflow) (5.3.3)\n",
            "Requirement already satisfied: pyasn1-modules>=0.2.1 in /usr/local/lib/python3.10/dist-packages (from google-auth<3,>=1.6.3->tensorboard<2.16,>=2.15->tensorflow) (0.3.0)\n",
            "Requirement already satisfied: rsa<5,>=3.1.4 in /usr/local/lib/python3.10/dist-packages (from google-auth<3,>=1.6.3->tensorboard<2.16,>=2.15->tensorflow) (4.9)\n",
            "Requirement already satisfied: requests-oauthlib>=0.7.0 in /usr/local/lib/python3.10/dist-packages (from google-auth-oauthlib<2,>=0.5->tensorboard<2.16,>=2.15->tensorflow) (1.3.1)\n",
            "Requirement already satisfied: charset-normalizer<4,>=2 in /usr/local/lib/python3.10/dist-packages (from requests<3,>=2.21.0->tensorboard<2.16,>=2.15->tensorflow) (3.3.2)\n",
            "Requirement already satisfied: idna<4,>=2.5 in /usr/local/lib/python3.10/dist-packages (from requests<3,>=2.21.0->tensorboard<2.16,>=2.15->tensorflow) (3.6)\n",
            "Requirement already satisfied: urllib3<3,>=1.21.1 in /usr/local/lib/python3.10/dist-packages (from requests<3,>=2.21.0->tensorboard<2.16,>=2.15->tensorflow) (2.0.7)\n",
            "Requirement already satisfied: certifi>=2017.4.17 in /usr/local/lib/python3.10/dist-packages (from requests<3,>=2.21.0->tensorboard<2.16,>=2.15->tensorflow) (2024.2.2)\n",
            "Requirement already satisfied: MarkupSafe>=2.1.1 in /usr/local/lib/python3.10/dist-packages (from werkzeug>=1.0.1->tensorboard<2.16,>=2.15->tensorflow) (2.1.5)\n",
            "Requirement already satisfied: pyasn1<0.6.0,>=0.4.6 in /usr/local/lib/python3.10/dist-packages (from pyasn1-modules>=0.2.1->google-auth<3,>=1.6.3->tensorboard<2.16,>=2.15->tensorflow) (0.5.1)\n",
            "Requirement already satisfied: oauthlib>=3.0.0 in /usr/local/lib/python3.10/dist-packages (from requests-oauthlib>=0.7.0->google-auth-oauthlib<2,>=0.5->tensorboard<2.16,>=2.15->tensorflow) (3.2.2)\n"
          ]
        }
      ],
      "source": [
        "pip install --upgrade tensorflow"
      ]
    },
    {
      "cell_type": "markdown",
      "source": [
        "Define the path to the dataset and the folders\n"
      ],
      "metadata": {
        "id": "-OAnfSpbnsB9"
      }
    },
    {
      "cell_type": "code",
      "execution_count": null,
      "metadata": {
        "id": "e2cYG819DRD3"
      },
      "outputs": [],
      "source": [
        "\n",
        "path = pathlib.Path(\"/content/drive/MyDrive/project image\")\n",
        "\n",
        "org = list(path.glob(\"O/*\"))\n",
        "rec = list(path.glob(\"R/*\"))\n",
        "other = list(path.glob(\"E/*\"))"
      ]
    },
    {
      "cell_type": "markdown",
      "source": [
        " Define function to read and process images\n"
      ],
      "metadata": {
        "id": "npK2OPdanpdO"
      }
    },
    {
      "cell_type": "code",
      "execution_count": null,
      "metadata": {
        "colab": {
          "base_uri": "https://localhost:8080/"
        },
        "id": "UMp5MUorcrWC",
        "outputId": "f0b79e78-b6ac-467d-b5b8-4d9e2bbd3450"
      },
      "outputs": [
        {
          "output_type": "stream",
          "name": "stdout",
          "text": [
            "Skipping file: /content/drive/MyDrive/project image/E/636364539543570882-Junk-08.jpeg\n",
            "Skipping file: /content/drive/MyDrive/project image/E/596f8aadc50c2931008b5381.jpeg\n",
            "Skipping file: /content/drive/MyDrive/project image/E/4ffaae26c38a4923bee02805b70c4acf_18.jpeg\n",
            "Skipping file: /content/drive/MyDrive/project image/E/in-phone.jpeg\n",
            "Skipping file: /content/drive/MyDrive/project image/E/original.jpeg\n"
          ]
        }
      ],
      "source": [
        "import tensorflow as tf\n",
        "\n",
        "def process_image(image_path):\n",
        "  try:\n",
        "    img = tf.io.read_file(str(image_path))\n",
        "    img = tf.image.decode_jpeg(img, channels=3)\n",
        "    img = tf.image.resize(img, (150, 150))\n",
        "    img = img / 255.0\n",
        "    return img\n",
        "  except tf.errors.InvalidArgumentError:\n",
        "        print(\"Skipping file:\", image_path)\n",
        "        return None\n",
        "\n",
        "images = []\n",
        "labels = []\n",
        "\n",
        "for img_path in org:\n",
        "    img = process_image(img_path)\n",
        "    if img is not None:\n",
        "        images.append(img)\n",
        "        labels.append(0)\n",
        "\n",
        "for img_path in rec:\n",
        "    img = process_image(img_path)\n",
        "    if img is not None:\n",
        "        images.append(img)\n",
        "        labels.append(1)\n",
        "\n",
        "for img_path in other:\n",
        "    img = process_image(img_path)\n",
        "    if img is not None:\n",
        "        images.append(img)\n",
        "        labels.append(2)"
      ]
    },
    {
      "cell_type": "markdown",
      "source": [
        "Load images and labels\n"
      ],
      "metadata": {
        "id": "pNTGwoGln5wP"
      }
    },
    {
      "cell_type": "code",
      "execution_count": null,
      "metadata": {
        "id": "WUSe321XDc6a"
      },
      "outputs": [],
      "source": [
        "images = np.array(images)\n",
        "labels = np.array(labels)"
      ]
    },
    {
      "cell_type": "code",
      "source": [
        "# Data Augmentation\n",
        "from tensorflow.keras.preprocessing.image import ImageDataGenerator\n",
        "\n",
        "datagen = ImageDataGenerator(\n",
        "    rotation_range=20,\n",
        "    width_shift_range=0.2,\n",
        "    height_shift_range=0.2,\n",
        "    shear_range=0.2,\n",
        "    zoom_range=0.2,\n",
        "    horizontal_flip=True,\n",
        "    vertical_flip=True,\n",
        "    fill_mode='nearest')\n",
        "\n",
        "# Train the model with data augmentation\n",
        "history = model.fit(datagen.flow(train_images, train_labels, batch_size=32),\n",
        "                    steps_per_epoch=len(train_images) / 32,\n",
        "                    epochs=20,\n",
        "                    validation_data=(test_images, test_labels))\n",
        "\n",
        "# Transfer Learning (Example using pre-trained ResNet50)\n",
        "from tensorflow.keras.applications import ResNet50\n",
        "from tensorflow.keras.applications.resnet50 import preprocess_input\n",
        "from tensorflow.keras.callbacks import EarlyStopping\n",
        "\n",
        "base_model = ResNet50(weights='imagenet', include_top=False, input_shape=(150, 150, 3))\n",
        "base_model.trainable = False\n",
        "\n",
        "model = models.Sequential([\n",
        "    base_model,\n",
        "    layers.Flatten(),\n",
        "    layers.Dense(128, activation='relu'),\n",
        "    layers.Dropout(0.5),\n",
        "    layers.Dense(3, activation='softmax')\n",
        "])\n",
        "\n",
        "model.compile(optimizer='adam',\n",
        "              loss='sparse_categorical_crossentropy',\n",
        "              metrics=['accuracy'])\n",
        "\n",
        "early_stopping = EarlyStopping(monitor='val_loss', patience=3, restore_best_weights=True)\n",
        "\n",
        "model.fit(train_images, train_labels, epochs=20, batch_size=32,\n",
        "          validation_split=0.2, callbacks=[early_stopping])\n"
      ],
      "metadata": {
        "colab": {
          "base_uri": "https://localhost:8080/"
        },
        "id": "0rvxhaGCHeFg",
        "outputId": "aaf9cc54-41e6-498d-ab6a-6798b67ee4dd"
      },
      "execution_count": null,
      "outputs": [
        {
          "output_type": "stream",
          "name": "stdout",
          "text": [
            "Epoch 1/20\n",
            "71/71 [==============================] - 149s 2s/step - loss: 0.5941 - accuracy: 0.7657 - val_loss: 0.4321 - val_accuracy: 0.8569\n",
            "Epoch 2/20\n",
            "71/71 [==============================] - 144s 2s/step - loss: 0.4033 - accuracy: 0.8588 - val_loss: 0.5325 - val_accuracy: 0.8272\n",
            "Epoch 3/20\n",
            "71/71 [==============================] - 142s 2s/step - loss: 0.3697 - accuracy: 0.8645 - val_loss: 0.3126 - val_accuracy: 0.8778\n",
            "Epoch 4/20\n",
            "71/71 [==============================] - 143s 2s/step - loss: 0.3269 - accuracy: 0.8785 - val_loss: 0.3490 - val_accuracy: 0.8639\n",
            "Epoch 5/20\n",
            "71/71 [==============================] - 145s 2s/step - loss: 0.3403 - accuracy: 0.8811 - val_loss: 0.3738 - val_accuracy: 0.8639\n",
            "Epoch 6/20\n",
            "71/71 [==============================] - 151s 2s/step - loss: 0.2933 - accuracy: 0.8885 - val_loss: 0.2786 - val_accuracy: 0.8935\n",
            "Epoch 7/20\n",
            "71/71 [==============================] - 142s 2s/step - loss: 0.2842 - accuracy: 0.9043 - val_loss: 0.2655 - val_accuracy: 0.9058\n",
            "Epoch 8/20\n",
            "71/71 [==============================] - 142s 2s/step - loss: 0.2771 - accuracy: 0.8977 - val_loss: 0.2717 - val_accuracy: 0.8918\n",
            "Epoch 9/20\n",
            "71/71 [==============================] - 144s 2s/step - loss: 0.2780 - accuracy: 0.8986 - val_loss: 0.2600 - val_accuracy: 0.8935\n",
            "Epoch 10/20\n",
            "71/71 [==============================] - 149s 2s/step - loss: 0.2539 - accuracy: 0.9038 - val_loss: 0.2463 - val_accuracy: 0.8953\n",
            "Epoch 11/20\n",
            "71/71 [==============================] - 139s 2s/step - loss: 0.2757 - accuracy: 0.8999 - val_loss: 0.2609 - val_accuracy: 0.8988\n",
            "Epoch 12/20\n",
            "71/71 [==============================] - 141s 2s/step - loss: 0.2590 - accuracy: 0.9065 - val_loss: 0.3771 - val_accuracy: 0.8674\n",
            "Epoch 13/20\n",
            "71/71 [==============================] - 140s 2s/step - loss: 0.2628 - accuracy: 0.9122 - val_loss: 0.2731 - val_accuracy: 0.8953\n",
            "Epoch 14/20\n",
            "71/71 [==============================] - 143s 2s/step - loss: 0.2490 - accuracy: 0.9060 - val_loss: 0.2985 - val_accuracy: 0.8935\n",
            "Epoch 15/20\n",
            "71/71 [==============================] - 137s 2s/step - loss: 0.2427 - accuracy: 0.9117 - val_loss: 0.2521 - val_accuracy: 0.9092\n",
            "Epoch 16/20\n",
            "71/71 [==============================] - 138s 2s/step - loss: 0.2508 - accuracy: 0.9113 - val_loss: 0.2671 - val_accuracy: 0.9005\n",
            "Epoch 17/20\n",
            "71/71 [==============================] - 139s 2s/step - loss: 0.2289 - accuracy: 0.9170 - val_loss: 0.2145 - val_accuracy: 0.9180\n",
            "Epoch 18/20\n",
            "71/71 [==============================] - 139s 2s/step - loss: 0.2496 - accuracy: 0.9113 - val_loss: 0.2505 - val_accuracy: 0.9040\n",
            "Epoch 19/20\n",
            "71/71 [==============================] - 137s 2s/step - loss: 0.2492 - accuracy: 0.9073 - val_loss: 0.2245 - val_accuracy: 0.9145\n",
            "Epoch 20/20\n",
            "71/71 [==============================] - 140s 2s/step - loss: 0.2381 - accuracy: 0.9183 - val_loss: 0.2470 - val_accuracy: 0.9075\n",
            "Downloading data from https://storage.googleapis.com/tensorflow/keras-applications/resnet/resnet50_weights_tf_dim_ordering_tf_kernels_notop.h5\n",
            "94765736/94765736 [==============================] - 1s 0us/step\n",
            "Epoch 1/20\n",
            "58/58 [==============================] - 213s 4s/step - loss: 1.4130 - accuracy: 0.4579 - val_loss: 0.9280 - val_accuracy: 0.4716\n",
            "Epoch 2/20\n",
            "58/58 [==============================] - 250s 4s/step - loss: 0.8912 - accuracy: 0.5366 - val_loss: 0.8374 - val_accuracy: 0.6572\n",
            "Epoch 3/20\n",
            "58/58 [==============================] - 248s 4s/step - loss: 0.8631 - accuracy: 0.5716 - val_loss: 0.8480 - val_accuracy: 0.5415\n",
            "Epoch 4/20\n",
            "58/58 [==============================] - 208s 4s/step - loss: 0.8439 - accuracy: 0.5847 - val_loss: 0.7269 - val_accuracy: 0.7336\n",
            "Epoch 5/20\n",
            "58/58 [==============================] - 255s 4s/step - loss: 0.8331 - accuracy: 0.6251 - val_loss: 0.7332 - val_accuracy: 0.7183\n",
            "Epoch 6/20\n",
            "58/58 [==============================] - 254s 4s/step - loss: 0.7863 - accuracy: 0.6454 - val_loss: 0.6990 - val_accuracy: 0.7576\n",
            "Epoch 7/20\n",
            "58/58 [==============================] - 251s 4s/step - loss: 0.7772 - accuracy: 0.6306 - val_loss: 0.6712 - val_accuracy: 0.7402\n",
            "Epoch 8/20\n",
            "58/58 [==============================] - 254s 4s/step - loss: 0.7538 - accuracy: 0.6596 - val_loss: 0.6329 - val_accuracy: 0.7686\n",
            "Epoch 9/20\n",
            "58/58 [==============================] - 252s 4s/step - loss: 0.7474 - accuracy: 0.6514 - val_loss: 0.6585 - val_accuracy: 0.7511\n",
            "Epoch 10/20\n",
            "58/58 [==============================] - 214s 4s/step - loss: 0.7825 - accuracy: 0.6311 - val_loss: 0.6682 - val_accuracy: 0.7642\n",
            "Epoch 11/20\n",
            "58/58 [==============================] - 252s 4s/step - loss: 0.7739 - accuracy: 0.6219 - val_loss: 0.6484 - val_accuracy: 0.7729\n"
          ]
        },
        {
          "output_type": "execute_result",
          "data": {
            "text/plain": [
              "<keras.callbacks.History at 0x78f512407af0>"
            ]
          },
          "metadata": {},
          "execution_count": 12
        }
      ]
    },
    {
      "cell_type": "markdown",
      "source": [
        "data augumentation"
      ],
      "metadata": {
        "id": "D4nq-zZ3bc7C"
      }
    },
    {
      "cell_type": "code",
      "source": [
        "datagen = ImageDataGenerator(\n",
        "    rotation_range=20,\n",
        "    width_shift_range=0.2,\n",
        "    height_shift_range=0.2,\n",
        "    shear_range=0.2,\n",
        "    zoom_range=0.2,\n",
        "    horizontal_flip=True,\n",
        "    fill_mode='nearest'\n",
        ")"
      ],
      "metadata": {
        "id": "CTd0574WbWab"
      },
      "execution_count": null,
      "outputs": []
    },
    {
      "cell_type": "markdown",
      "source": [
        "train test split"
      ],
      "metadata": {
        "id": "wpSDJYOZeXsj"
      }
    },
    {
      "cell_type": "code",
      "source": [
        "train_images, test_images, train_labels, test_labels = train_test_split(images, labels, test_size=0.2, random_state=42)"
      ],
      "metadata": {
        "id": "K9jf2blkeWab"
      },
      "execution_count": null,
      "outputs": []
    },
    {
      "cell_type": "code",
      "source": [
        "train_images.shape"
      ],
      "metadata": {
        "colab": {
          "base_uri": "https://localhost:8080/"
        },
        "id": "3Q_At0Lch-Rd",
        "outputId": "08305021-a93a-4b81-dec4-9e6563b43584"
      },
      "execution_count": null,
      "outputs": [
        {
          "output_type": "execute_result",
          "data": {
            "text/plain": [
              "(2288, 150, 150, 3)"
            ]
          },
          "metadata": {},
          "execution_count": 10
        }
      ]
    },
    {
      "cell_type": "code",
      "source": [
        "test_images.shape"
      ],
      "metadata": {
        "colab": {
          "base_uri": "https://localhost:8080/"
        },
        "id": "YY3IKyyziDGh",
        "outputId": "73691b41-fec2-4b2b-bd78-cd31286ac778"
      },
      "execution_count": null,
      "outputs": [
        {
          "output_type": "execute_result",
          "data": {
            "text/plain": [
              "(573, 150, 150, 3)"
            ]
          },
          "metadata": {},
          "execution_count": 11
        }
      ]
    },
    {
      "cell_type": "markdown",
      "source": [
        "apply augumentation on training data set"
      ],
      "metadata": {
        "id": "Udld5xvdb8b0"
      }
    },
    {
      "cell_type": "code",
      "source": [
        "train_data_gen = datagen.flow(train_images, train_labels, batch_size=32)"
      ],
      "metadata": {
        "id": "P_qAeM8fb7g5"
      },
      "execution_count": null,
      "outputs": []
    },
    {
      "cell_type": "markdown",
      "source": [
        "random shuffle"
      ],
      "metadata": {
        "id": "PucDa-HIF19V"
      }
    },
    {
      "cell_type": "code",
      "source": [
        "idx = np.random.permutation(len(images))\n",
        "images, labels = images[idx], labels[idx]"
      ],
      "metadata": {
        "id": "Q5z0zVgtF02M"
      },
      "execution_count": null,
      "outputs": []
    },
    {
      "cell_type": "markdown",
      "source": [
        "define and compile CNN model"
      ],
      "metadata": {
        "id": "pvmiseeNcojH"
      }
    },
    {
      "cell_type": "code",
      "source": [
        "model = models.Sequential([\n",
        "    layers.Conv2D(32, (3, 3), activation='relu', input_shape=(150, 150, 3)),\n",
        "    layers.MaxPooling2D((2, 2)),\n",
        "    layers.Conv2D(64, (3, 3), activation='relu'),\n",
        "    layers.MaxPooling2D((2, 2)),\n",
        "    layers.Conv2D(128, (3, 3), activation='relu'),\n",
        "    layers.MaxPooling2D((2, 2)),\n",
        "    layers.Flatten(),\n",
        "    layers.Dropout(0.5),\n",
        "    layers.Dense(128, activation='relu'),\n",
        "    layers.Dense(3, activation='softmax')\n",
        "])\n",
        "\n",
        "\n",
        "model.compile(optimizer='adam',\n",
        "              loss='sparse_categorical_crossentropy',\n",
        "              metrics=['accuracy'])"
      ],
      "metadata": {
        "id": "E_lTwciMcnub"
      },
      "execution_count": null,
      "outputs": []
    },
    {
      "cell_type": "markdown",
      "source": [
        "fitting and evaluating the model"
      ],
      "metadata": {
        "id": "PpBEAN4SezNY"
      }
    },
    {
      "cell_type": "code",
      "source": [
        "history = model.fit(train_data_gen,\n",
        "                    steps_per_epoch=len(train_images) / 32,\n",
        "                    epochs=20,\n",
        "                    validation_data=(test_images, test_labels))\n",
        "\n",
        "test_loss, test_acc = model.evaluate(test_images, test_labels)\n",
        "print(\"Test Accuracy:\", test_acc)\n",
        "\n"
      ],
      "metadata": {
        "id": "3TSCaJ0DzpbR",
        "colab": {
          "base_uri": "https://localhost:8080/"
        },
        "outputId": "53502041-8fe8-40f5-b03e-b9e9ba10159d"
      },
      "execution_count": null,
      "outputs": [
        {
          "output_type": "stream",
          "name": "stdout",
          "text": [
            "Skipping file: /content/drive/MyDrive/project image/E/636364539543570882-Junk-08.jpeg\n",
            "Skipping file: /content/drive/MyDrive/project image/E/596f8aadc50c2931008b5381.jpeg\n",
            "Skipping file: /content/drive/MyDrive/project image/E/4ffaae26c38a4923bee02805b70c4acf_18.jpeg\n",
            "Skipping file: /content/drive/MyDrive/project image/E/in-phone.jpeg\n",
            "Skipping file: /content/drive/MyDrive/project image/E/original.jpeg\n",
            "Epoch 1/20\n",
            "71/71 [==============================] - 198s 3s/step - loss: 0.6343 - accuracy: 0.7426 - val_loss: 0.4451 - val_accuracy: 0.8482\n",
            "Epoch 2/20\n",
            "71/71 [==============================] - 226s 3s/step - loss: 0.4052 - accuracy: 0.8663 - val_loss: 0.4681 - val_accuracy: 0.8360\n",
            "Epoch 3/20\n",
            "71/71 [==============================] - 231s 3s/step - loss: 0.3649 - accuracy: 0.8763 - val_loss: 0.3710 - val_accuracy: 0.8691\n",
            "Epoch 4/20\n",
            "71/71 [==============================] - 170s 2s/step - loss: 0.3400 - accuracy: 0.8833 - val_loss: 0.3041 - val_accuracy: 0.8918\n",
            "Epoch 5/20\n",
            "71/71 [==============================] - 184s 3s/step - loss: 0.3192 - accuracy: 0.8903 - val_loss: 0.3097 - val_accuracy: 0.8831\n",
            "Epoch 6/20\n",
            "71/71 [==============================] - 159s 2s/step - loss: 0.3315 - accuracy: 0.8820 - val_loss: 0.3817 - val_accuracy: 0.8639\n",
            "Epoch 7/20\n",
            "71/71 [==============================] - 172s 2s/step - loss: 0.2943 - accuracy: 0.8982 - val_loss: 0.2959 - val_accuracy: 0.8918\n",
            "Epoch 8/20\n",
            "71/71 [==============================] - 163s 2s/step - loss: 0.2751 - accuracy: 0.9038 - val_loss: 0.2790 - val_accuracy: 0.8866\n",
            "Epoch 9/20\n",
            "71/71 [==============================] - 171s 2s/step - loss: 0.2787 - accuracy: 0.8969 - val_loss: 0.3273 - val_accuracy: 0.8726\n",
            "Epoch 10/20\n",
            "71/71 [==============================] - 171s 2s/step - loss: 0.2782 - accuracy: 0.9073 - val_loss: 0.3225 - val_accuracy: 0.8901\n",
            "Epoch 11/20\n",
            "71/71 [==============================] - 145s 2s/step - loss: 0.2594 - accuracy: 0.9073 - val_loss: 0.2813 - val_accuracy: 0.8813\n",
            "Epoch 12/20\n",
            "71/71 [==============================] - 128s 2s/step - loss: 0.2572 - accuracy: 0.9104 - val_loss: 0.2764 - val_accuracy: 0.8935\n",
            "Epoch 13/20\n",
            "71/71 [==============================] - 128s 2s/step - loss: 0.2615 - accuracy: 0.9087 - val_loss: 0.2972 - val_accuracy: 0.8970\n",
            "Epoch 14/20\n",
            "71/71 [==============================] - 127s 2s/step - loss: 0.2411 - accuracy: 0.9122 - val_loss: 0.2652 - val_accuracy: 0.8953\n",
            "Epoch 15/20\n",
            "71/71 [==============================] - 131s 2s/step - loss: 0.2518 - accuracy: 0.9087 - val_loss: 0.2318 - val_accuracy: 0.9110\n",
            "Epoch 16/20\n",
            "71/71 [==============================] - 129s 2s/step - loss: 0.2787 - accuracy: 0.9003 - val_loss: 0.2957 - val_accuracy: 0.8918\n",
            "Epoch 17/20\n",
            "71/71 [==============================] - 131s 2s/step - loss: 0.2290 - accuracy: 0.9196 - val_loss: 0.2470 - val_accuracy: 0.9023\n",
            "Epoch 18/20\n",
            "71/71 [==============================] - 131s 2s/step - loss: 0.2444 - accuracy: 0.9143 - val_loss: 0.2703 - val_accuracy: 0.8935\n",
            "Epoch 19/20\n",
            "71/71 [==============================] - 131s 2s/step - loss: 0.2459 - accuracy: 0.9100 - val_loss: 0.2417 - val_accuracy: 0.9005\n",
            "Epoch 20/20\n",
            "71/71 [==============================] - 129s 2s/step - loss: 0.2199 - accuracy: 0.9213 - val_loss: 0.2175 - val_accuracy: 0.9162\n",
            "18/18 [==============================] - 7s 370ms/step - loss: 0.2175 - accuracy: 0.9162\n",
            "Test Accuracy: 0.9162303805351257\n"
          ]
        }
      ]
    },
    {
      "cell_type": "markdown",
      "source": [
        "evaluating using accuracy_score"
      ],
      "metadata": {
        "id": "IKw-XzsZfTdt"
      }
    },
    {
      "cell_type": "code",
      "source": [
        "predictions = model.predict(test_images)\n",
        "\n",
        "predicted_labels = np.argmax(predictions, axis=1)\n",
        "\n",
        "accuracy = accuracy_score(test_labels, predicted_labels)\n",
        "\n",
        "print('Accuracy on test data:', accuracy)\n"
      ],
      "metadata": {
        "colab": {
          "base_uri": "https://localhost:8080/"
        },
        "id": "vm-D56aeWh6R",
        "outputId": "71bdb376-2808-4746-bea2-113d51b5335d"
      },
      "execution_count": null,
      "outputs": [
        {
          "output_type": "stream",
          "name": "stdout",
          "text": [
            "18/18 [==============================] - 53s 3s/step\n",
            "Accuracy on test data: 0.7801047120418848\n"
          ]
        }
      ]
    },
    {
      "cell_type": "code",
      "execution_count": null,
      "metadata": {
        "id": "ePEqQdgTDh0c"
      },
      "outputs": [],
      "source": [
        "idx = np.random.permutation(len(images))\n",
        "images, labels = images[idx], labels[idx]"
      ]
    },
    {
      "cell_type": "markdown",
      "source": [
        "summary"
      ],
      "metadata": {
        "id": "aA3K2UV8lXDS"
      }
    },
    {
      "cell_type": "code",
      "execution_count": null,
      "metadata": {
        "colab": {
          "base_uri": "https://localhost:8080/"
        },
        "id": "LCNtJfOUWf4i",
        "outputId": "3832f86e-058b-46d5-a210-b5b604bcae62"
      },
      "outputs": [
        {
          "output_type": "stream",
          "name": "stdout",
          "text": [
            "Model: \"sequential_1\"\n",
            "_________________________________________________________________\n",
            " Layer (type)                Output Shape              Param #   \n",
            "=================================================================\n",
            " conv2d_3 (Conv2D)           (None, 148, 148, 32)      896       \n",
            "                                                                 \n",
            " max_pooling2d_3 (MaxPoolin  (None, 74, 74, 32)        0         \n",
            " g2D)                                                            \n",
            "                                                                 \n",
            " conv2d_4 (Conv2D)           (None, 72, 72, 64)        18496     \n",
            "                                                                 \n",
            " max_pooling2d_4 (MaxPoolin  (None, 36, 36, 64)        0         \n",
            " g2D)                                                            \n",
            "                                                                 \n",
            " conv2d_5 (Conv2D)           (None, 34, 34, 128)       73856     \n",
            "                                                                 \n",
            " max_pooling2d_5 (MaxPoolin  (None, 17, 17, 128)       0         \n",
            " g2D)                                                            \n",
            "                                                                 \n",
            " flatten_1 (Flatten)         (None, 36992)             0         \n",
            "                                                                 \n",
            " dropout (Dropout)           (None, 36992)             0         \n",
            "                                                                 \n",
            " dense_2 (Dense)             (None, 128)               4735104   \n",
            "                                                                 \n",
            " dense_3 (Dense)             (None, 3)                 387       \n",
            "                                                                 \n",
            "=================================================================\n",
            "Total params: 4828739 (18.42 MB)\n",
            "Trainable params: 4828739 (18.42 MB)\n",
            "Non-trainable params: 0 (0.00 Byte)\n",
            "_________________________________________________________________\n"
          ]
        }
      ],
      "source": [
        "model.summary()"
      ]
    },
    {
      "cell_type": "code",
      "execution_count": null,
      "metadata": {
        "colab": {
          "base_uri": "https://localhost:8080/"
        },
        "id": "xds61PaJWhpu",
        "outputId": "e8c7eb5c-1700-4057-ca78-c47e31451642"
      },
      "outputs": [
        {
          "output_type": "stream",
          "name": "stderr",
          "text": [
            "/usr/local/lib/python3.10/dist-packages/keras/src/engine/training.py:3103: UserWarning: You are saving your model as an HDF5 file via `model.save()`. This file format is considered legacy. We recommend using instead the native Keras format, e.g. `model.save('my_model.keras')`.\n",
            "  saving_api.save_model(\n"
          ]
        }
      ],
      "source": [
        "model.save('mymodel.h5')"
      ]
    },
    {
      "cell_type": "code",
      "execution_count": null,
      "metadata": {
        "id": "vln5zDl2Wl__"
      },
      "outputs": [],
      "source": [
        "model.save('/content/drive/MyDrive/mymodel.h5')"
      ]
    },
    {
      "cell_type": "markdown",
      "source": [
        "plot"
      ],
      "metadata": {
        "id": "lN-nLUBrjxav"
      }
    },
    {
      "cell_type": "code",
      "execution_count": null,
      "metadata": {
        "id": "xj9DI8aPWweS",
        "colab": {
          "base_uri": "https://localhost:8080/",
          "height": 564
        },
        "outputId": "e55b05a2-d14f-4187-d158-c90a9d05ebd6"
      },
      "outputs": [
        {
          "output_type": "display_data",
          "data": {
            "text/plain": [
              "<Figure size 1200x600 with 2 Axes>"
            ],
            "image/png": "[encoded data removed]"
          },
          "metadata": {}
        }
      ],
      "source": [
        "train_loss = history.history['loss']\n",
        "val_loss = history.history['val_loss']\n",
        "train_acc = history.history['accuracy']\n",
        "val_acc = history.history['val_accuracy']\n",
        "\n",
        "\n",
        "epochs = range(1, len(train_loss) + 1)\n",
        "\n",
        "plt.figure(figsize=(12, 6))\n",
        "\n",
        "plt.subplot(1, 2, 1)\n",
        "plt.plot(epochs, train_loss, 'r', label='Training Loss')\n",
        "plt.plot(epochs, val_loss, 'b', label='Validation Loss')\n",
        "plt.title('Training and Validation Loss')\n",
        "plt.xlabel('Epochs')\n",
        "plt.ylabel('Loss')\n",
        "plt.legend()\n",
        "\n",
        "\n",
        "plt.subplot(1, 2, 2)\n",
        "plt.plot(epochs, train_acc, 'r', label='Training Accuracy')\n",
        "plt.plot(epochs, val_acc, 'b', label='Validation Accuracy')\n",
        "plt.title('Training and Validation Accuracy')\n",
        "plt.xlabel('Epochs')\n",
        "plt.ylabel('Accuracy')\n",
        "plt.legend()\n",
        "\n",
        "plt.show()"
      ]
    },
    {
      "cell_type": "markdown",
      "source": [
        "predicting the test set"
      ],
      "metadata": {
        "id": "xdA_tm-_i3lL"
      }
    },
    {
      "cell_type": "code",
      "execution_count": null,
      "metadata": {
        "colab": {
          "base_uri": "https://localhost:8080/"
        },
        "id": "CakAEY6hZLKY",
        "outputId": "ce07faad-8b02-44a4-bb5c-91a8a13510d3"
      },
      "outputs": [
        {
          "output_type": "stream",
          "name": "stdout",
          "text": [
            "18/18 [==============================] - 12s 696ms/step\n",
            "[1 1 0 1 0 0 0 1 2 2 2 1 2 0 1 0 0 0 0 0 0 1 1 0 2 1 2 0 1 2 1 0 0 1 1 0 1\n",
            " 0 0 0 2 0 0 1 2 0 0 0 0 0 0 2 2 0 2 1 1 2 0 1 0 0 2 0 0 1 2 0 0 0 0 0 0 0\n",
            " 1 1 0 1 0 0 1 0 1 1 0 0 2 1 1 2 1 0 0 0 0 1 0 1 0 0 0 0 0 1 0 2 2 0 0 1 0\n",
            " 2 1 1 0 1 0 0 2 1 1 1 0 1 0 0 0 1 2 0 2 2 0 1 1 0 0 1 1 0 1 0 1 2 0 1 0 0\n",
            " 0 0 1 0 0 2 0 2 0 1 0 0 0 2 2 2 0 0 2 2 2 0 0 0 1 0 2 1 2 2 0 1 0 0 1 1 0\n",
            " 0 2 2 0 0 1 0 0 0 2 1 0 0 0 2 1 0 2 0 2 0 0 1 0 1 0 1 0 1 0 1 1 0 0 1 2 0\n",
            " 2 2 2 2 1 0 0 0 1 0 0 1 0 0 0 1 0 0 1 2 0 1 1 0 0 0 1 2 2 0 0 2 2 0 0 0 2\n",
            " 2 2 1 2 0 1 2 0 0 0 0 0 2 0 1 1 2 1 0 1 0 0 0 1 1 2 1 0 2 1 2 0 0 0 0 0 2\n",
            " 1 0 0 0 1 0 0 1 2 0 1 0 0 0 0 2 1 0 0 0 2 1 1 2 0 0 2 0 1 0 1 1 1 0 0 0 1\n",
            " 0 0 0 2 0 0 1 2 2 0 0 0 0 0 0 0 1 1 1 1 2 2 1 2 0 1 1 0 0 0 0 2 0 0 0 1 1\n",
            " 0 0 2 0 1 0 0 2 1 0 0 0 1 1 0 0 0 0 2 2 0 0 1 0 1 2 0 2 2 0 1 1 0 1 0 0 2\n",
            " 1 1 0 1 0 0 0 0 0 2 2 0 0 2 0 0 0 2 0 0 2 0 2 0 0 0 1 0 0 0 1 2 1 2 1 0 2\n",
            " 1 0 2 1 0 2 2 1 2 0 0 0 0 0 0 1 0 0 0 0 0 1 0 0 0 1 0 0 0 0 2 2 0 0 0 0 1\n",
            " 0 0 0 2 0 2 1 2 0 2 2 2 0 0 2 1 0 2 0 0 1 0 2 1 0 0 1 0 2 2 0 1 1 1 0 2 0\n",
            " 2 0 0 0 1 2 0 0 2 0 0 1 2 0 0 0 1 1 0 2 1 1 1 0 0 1 0 0 1 1 0 0 1 1 1 2 1\n",
            " 1 2 0 1 1 2 0 0 0 0 0 0 0 1 0 1 2 1]\n"
          ]
        }
      ],
      "source": [
        "predictions = model.predict(test_images)\n",
        "predicted_labels = np.argmax(predictions, axis=1)\n",
        "\n",
        "print(predicted_labels)\n"
      ]
    },
    {
      "cell_type": "markdown",
      "source": [
        "classification report"
      ],
      "metadata": {
        "id": "NJFmiJQ7jHnW"
      }
    },
    {
      "cell_type": "code",
      "source": [
        "print(\"Classification Report:\\n\", classification_report(test_labels, predicted_labels))"
      ],
      "metadata": {
        "colab": {
          "base_uri": "https://localhost:8080/"
        },
        "id": "YrsNDSYIFhEq",
        "outputId": "aec67c1b-51ee-4db7-a809-491c805f2164"
      },
      "execution_count": null,
      "outputs": [
        {
          "output_type": "stream",
          "name": "stdout",
          "text": [
            "Classification Report:\n",
            "               precision    recall  f1-score   support\n",
            "\n",
            "           0       0.97      0.99      0.98       296\n",
            "           1       0.97      0.95      0.96       158\n",
            "\n",
            "    accuracy                           0.97       454\n",
            "   macro avg       0.97      0.97      0.97       454\n",
            "weighted avg       0.97      0.97      0.97       454\n",
            "\n"
          ]
        }
      ]
    },
    {
      "cell_type": "markdown",
      "source": [
        "confusion matrix"
      ],
      "metadata": {
        "id": "0uliOvJAjDo8"
      }
    },
    {
      "cell_type": "code",
      "execution_count": null,
      "metadata": {
        "colab": {
          "base_uri": "https://localhost:8080/",
          "height": 581
        },
        "id": "7jyzRuL0ZgY2",
        "outputId": "70685c0a-333b-4a1f-d331-d4857b9ae38d"
      },
      "outputs": [
        {
          "output_type": "stream",
          "name": "stdout",
          "text": [
            "18/18 [==============================] - 7s 373ms/step\n"
          ]
        },
        {
          "output_type": "display_data",
          "data": {
            "text/plain": [
              "<Figure size 800x600 with 1 Axes>"
            ],
            "image/png": "[encoded data removed]"
          },
          "metadata": {}
        }
      ],
      "source": [
        "predictions = model.predict(test_images)\n",
        "predicted_labels = np.argmax(predictions, axis=1)\n",
        "\n",
        "conf_matrix = confusion_matrix(test_labels, predicted_labels)\n",
        "\n",
        "plt.figure(figsize=(8, 6))\n",
        "sns.heatmap(conf_matrix, annot=True, fmt=\"d\", cmap=\"Blues\", cbar=False,\n",
        "            xticklabels=['Organic', 'Recyclable', 'other'],\n",
        "            yticklabels=['Organic', 'Recyclable', 'other'])\n",
        "plt.xlabel('True Labels')\n",
        "plt.ylabel('Predicted Labels')\n",
        "plt.title('Confusion Matrix')\n",
        "plt.show()\n"
      ]
    }
  ],
  "metadata": {
    "colab": {
      "provenance": []
    },
    "kernelspec": {
      "display_name": "Python 3",
      "name": "python3"
    },
    "language_info": {
      "name": "python"
    },
    "accelerator": "TPU"
  },
  "nbformat": 4,
  "nbformat_minor": 0
}